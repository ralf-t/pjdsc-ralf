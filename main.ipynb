{
 "cells": [
  {
   "cell_type": "code",
   "execution_count": 3,
   "id": "e940e10f",
   "metadata": {},
   "outputs": [],
   "source": [
    "import pandas as pd\n",
    "import numpy as np\n",
    "from scipy import stats\n",
    "from pandas_profiling import ProfileReport"
   ]
  },
  {
   "cell_type": "code",
   "execution_count": 183,
   "id": "875dcdb3",
   "metadata": {},
   "outputs": [],
   "source": [
    "# Similar keys\n",
    "# region\n",
    "# province\n",
    "# barangay\n",
    "# precinct_id\n",
    "# city/municipality(?)\n",
    "\n",
    "# Contains the election results of the 2022 Philippine presidential elections at a per-precinct level.\n",
    "pres = pd.read_csv(\"Elections Dataset/pres_precinct_data_2022.csv\")\n",
    "pres.rename(columns = {\n",
    "    'Region':'region',\n",
    "    'Province':'province',\n",
    "    'Barangay':'barangay',\n",
    "    \"Precinct ID\":'precinct_id',\n",
    "    'City':'city'\n",
    "}, inplace=True)\n",
    "\n",
    "# Contains the election results of the 2016 Philippine vice-presidential elections at a per-precinct level. \n",
    "vp = pd.read_csv(\"Elections Dataset/vp_precinct_data_2016.csv\")\n",
    "\n",
    "# Contains precinct descriptions and polling centers centers for the 2022 Philippine presidential elections.\n",
    "population = pd.read_excel(\"Elections Dataset/2022NLEPOP.xlsx\")\n",
    "population.rename(columns = {\n",
    "    'REGION':'region',\n",
    "    'PROVINCE':'province',\n",
    "    'BARANGAY':'barangay',\n",
    "    \"PRECINCT_ID\":'precinct_id',\n",
    "    'MUNICIPALITY':'city'\n",
    "}, inplace=True)\n"
   ]
  },
  {
   "cell_type": "code",
   "execution_count": 184,
   "id": "a5417559",
   "metadata": {},
   "outputs": [
    {
     "name": "stdout",
     "output_type": "stream",
     "text": [
      "(105666, 15)\n"
     ]
    }
   ],
   "source": [
    "print(pres.shape)"
   ]
  },
  {
   "cell_type": "code",
   "execution_count": 185,
   "id": "57271dbb",
   "metadata": {},
   "outputs": [
    {
     "data": {
      "text/html": [
       "<div>\n",
       "<style scoped>\n",
       "    .dataframe tbody tr th:only-of-type {\n",
       "        vertical-align: middle;\n",
       "    }\n",
       "\n",
       "    .dataframe tbody tr th {\n",
       "        vertical-align: top;\n",
       "    }\n",
       "\n",
       "    .dataframe thead th {\n",
       "        text-align: right;\n",
       "    }\n",
       "</style>\n",
       "<table border=\"1\" class=\"dataframe\">\n",
       "  <thead>\n",
       "    <tr style=\"text-align: right;\">\n",
       "      <th></th>\n",
       "      <th>region</th>\n",
       "      <th>province</th>\n",
       "      <th>city</th>\n",
       "      <th>barangay</th>\n",
       "      <th>precinct_id</th>\n",
       "      <th>ABELLA, ERNIE (IND)</th>\n",
       "      <th>DE GUZMAN, LEODY (PLM)</th>\n",
       "      <th>DOMAGOSO, ISKO MORENO (AKSYON)</th>\n",
       "      <th>GONZALES, NORBERTO (PDSP)</th>\n",
       "      <th>LACSON, PING (PDR)</th>\n",
       "      <th>MANGONDATO, FAISAL (KTPNAN)</th>\n",
       "      <th>MARCOS, BONGBONG (PFP)</th>\n",
       "      <th>MONTEMAYOR, JOSE JR. (DPP)</th>\n",
       "      <th>PACQUIAO, MANNY PACMAN(PROMDI)</th>\n",
       "      <th>ROBREDO, LENI (IND)</th>\n",
       "    </tr>\n",
       "  </thead>\n",
       "  <tbody>\n",
       "    <tr>\n",
       "      <th>0</th>\n",
       "      <td>REGION X</td>\n",
       "      <td>BUKIDNON</td>\n",
       "      <td>BAUNGON</td>\n",
       "      <td>BALINTAD</td>\n",
       "      <td>13010009</td>\n",
       "      <td>2</td>\n",
       "      <td>1</td>\n",
       "      <td>4</td>\n",
       "      <td>0</td>\n",
       "      <td>0</td>\n",
       "      <td>1</td>\n",
       "      <td>224</td>\n",
       "      <td>0</td>\n",
       "      <td>115</td>\n",
       "      <td>29</td>\n",
       "    </tr>\n",
       "    <tr>\n",
       "      <th>1</th>\n",
       "      <td>REGION X</td>\n",
       "      <td>BUKIDNON</td>\n",
       "      <td>BAUNGON</td>\n",
       "      <td>BUENAVISTA</td>\n",
       "      <td>13010010</td>\n",
       "      <td>3</td>\n",
       "      <td>5</td>\n",
       "      <td>7</td>\n",
       "      <td>5</td>\n",
       "      <td>0</td>\n",
       "      <td>2</td>\n",
       "      <td>310</td>\n",
       "      <td>1</td>\n",
       "      <td>188</td>\n",
       "      <td>47</td>\n",
       "    </tr>\n",
       "    <tr>\n",
       "      <th>2</th>\n",
       "      <td>REGION X</td>\n",
       "      <td>BUKIDNON</td>\n",
       "      <td>BAUNGON</td>\n",
       "      <td>DANATAG</td>\n",
       "      <td>13010011</td>\n",
       "      <td>4</td>\n",
       "      <td>3</td>\n",
       "      <td>9</td>\n",
       "      <td>4</td>\n",
       "      <td>3</td>\n",
       "      <td>0</td>\n",
       "      <td>288</td>\n",
       "      <td>4</td>\n",
       "      <td>152</td>\n",
       "      <td>44</td>\n",
       "    </tr>\n",
       "    <tr>\n",
       "      <th>3</th>\n",
       "      <td>REGION X</td>\n",
       "      <td>BUKIDNON</td>\n",
       "      <td>BAUNGON</td>\n",
       "      <td>DANATAG</td>\n",
       "      <td>13010012</td>\n",
       "      <td>2</td>\n",
       "      <td>2</td>\n",
       "      <td>16</td>\n",
       "      <td>2</td>\n",
       "      <td>3</td>\n",
       "      <td>0</td>\n",
       "      <td>190</td>\n",
       "      <td>3</td>\n",
       "      <td>160</td>\n",
       "      <td>51</td>\n",
       "    </tr>\n",
       "    <tr>\n",
       "      <th>4</th>\n",
       "      <td>REGION X</td>\n",
       "      <td>BUKIDNON</td>\n",
       "      <td>BAUNGON</td>\n",
       "      <td>DANATAG</td>\n",
       "      <td>13010013</td>\n",
       "      <td>0</td>\n",
       "      <td>1</td>\n",
       "      <td>16</td>\n",
       "      <td>4</td>\n",
       "      <td>6</td>\n",
       "      <td>0</td>\n",
       "      <td>272</td>\n",
       "      <td>2</td>\n",
       "      <td>125</td>\n",
       "      <td>46</td>\n",
       "    </tr>\n",
       "  </tbody>\n",
       "</table>\n",
       "</div>"
      ],
      "text/plain": [
       "     region  province     city    barangay  precinct_id  ABELLA, ERNIE (IND)  \\\n",
       "0  REGION X  BUKIDNON  BAUNGON    BALINTAD     13010009                    2   \n",
       "1  REGION X  BUKIDNON  BAUNGON  BUENAVISTA     13010010                    3   \n",
       "2  REGION X  BUKIDNON  BAUNGON     DANATAG     13010011                    4   \n",
       "3  REGION X  BUKIDNON  BAUNGON     DANATAG     13010012                    2   \n",
       "4  REGION X  BUKIDNON  BAUNGON     DANATAG     13010013                    0   \n",
       "\n",
       "   DE GUZMAN, LEODY (PLM)  DOMAGOSO, ISKO MORENO (AKSYON)  \\\n",
       "0                       1                               4   \n",
       "1                       5                               7   \n",
       "2                       3                               9   \n",
       "3                       2                              16   \n",
       "4                       1                              16   \n",
       "\n",
       "   GONZALES, NORBERTO (PDSP)  LACSON, PING (PDR)  MANGONDATO, FAISAL (KTPNAN)  \\\n",
       "0                          0                   0                            1   \n",
       "1                          5                   0                            2   \n",
       "2                          4                   3                            0   \n",
       "3                          2                   3                            0   \n",
       "4                          4                   6                            0   \n",
       "\n",
       "   MARCOS, BONGBONG (PFP)  MONTEMAYOR, JOSE JR. (DPP)  \\\n",
       "0                     224                           0   \n",
       "1                     310                           1   \n",
       "2                     288                           4   \n",
       "3                     190                           3   \n",
       "4                     272                           2   \n",
       "\n",
       "   PACQUIAO, MANNY PACMAN(PROMDI)  ROBREDO, LENI (IND)  \n",
       "0                             115                   29  \n",
       "1                             188                   47  \n",
       "2                             152                   44  \n",
       "3                             160                   51  \n",
       "4                             125                   46  "
      ]
     },
     "execution_count": 185,
     "metadata": {},
     "output_type": "execute_result"
    }
   ],
   "source": [
    "pres.head()"
   ]
  },
  {
   "cell_type": "code",
   "execution_count": 186,
   "id": "71849c0f",
   "metadata": {},
   "outputs": [
    {
     "data": {
      "text/plain": [
       "(107785, 9)"
      ]
     },
     "execution_count": 186,
     "metadata": {},
     "output_type": "execute_result"
    }
   ],
   "source": [
    "population.shape"
   ]
  },
  {
   "cell_type": "code",
   "execution_count": 187,
   "id": "c06756d2",
   "metadata": {},
   "outputs": [
    {
     "data": {
      "text/html": [
       "<div>\n",
       "<style scoped>\n",
       "    .dataframe tbody tr th:only-of-type {\n",
       "        vertical-align: middle;\n",
       "    }\n",
       "\n",
       "    .dataframe tbody tr th {\n",
       "        vertical-align: top;\n",
       "    }\n",
       "\n",
       "    .dataframe thead th {\n",
       "        text-align: right;\n",
       "    }\n",
       "</style>\n",
       "<table border=\"1\" class=\"dataframe\">\n",
       "  <thead>\n",
       "    <tr style=\"text-align: right;\">\n",
       "      <th></th>\n",
       "      <th>region</th>\n",
       "      <th>province</th>\n",
       "      <th>city</th>\n",
       "      <th>barangay</th>\n",
       "      <th>precinct_id</th>\n",
       "      <th>CLUSTER</th>\n",
       "      <th>CLUSTERTOTAL</th>\n",
       "      <th>CLUSTERED_PRECINCTS</th>\n",
       "      <th>POLLINGCENTER</th>\n",
       "    </tr>\n",
       "  </thead>\n",
       "  <tbody>\n",
       "    <tr>\n",
       "      <th>0</th>\n",
       "      <td>BARMM</td>\n",
       "      <td>BASILAN</td>\n",
       "      <td>AKBAR</td>\n",
       "      <td>LINONGAN</td>\n",
       "      <td>7080001</td>\n",
       "      <td>1</td>\n",
       "      <td>423</td>\n",
       "      <td>0012A, 0012P1, 0011A</td>\n",
       "      <td>LINONGAN ELEMENTARY SCHOOL, BARANGAY LINONGAN,...</td>\n",
       "    </tr>\n",
       "    <tr>\n",
       "      <th>1</th>\n",
       "      <td>BARMM</td>\n",
       "      <td>BASILAN</td>\n",
       "      <td>AKBAR</td>\n",
       "      <td>LINONGAN</td>\n",
       "      <td>7080002</td>\n",
       "      <td>2</td>\n",
       "      <td>411</td>\n",
       "      <td>0011B, 0011C, 0012B</td>\n",
       "      <td>LINONGAN ELEMENTARY SCHOOL, BARANGAY LINONGAN,...</td>\n",
       "    </tr>\n",
       "    <tr>\n",
       "      <th>2</th>\n",
       "      <td>BARMM</td>\n",
       "      <td>BASILAN</td>\n",
       "      <td>AKBAR</td>\n",
       "      <td>MANGUSO</td>\n",
       "      <td>7080003</td>\n",
       "      <td>3</td>\n",
       "      <td>313</td>\n",
       "      <td>0035A, 0035C, 0035P1, 0035B</td>\n",
       "      <td>AKBAR ELEMENTARY SCHOOL, BARANGAY UPPER BATO-B...</td>\n",
       "    </tr>\n",
       "    <tr>\n",
       "      <th>3</th>\n",
       "      <td>BARMM</td>\n",
       "      <td>BASILAN</td>\n",
       "      <td>AKBAR</td>\n",
       "      <td>UPPER SINANGKAPAN</td>\n",
       "      <td>7080004</td>\n",
       "      <td>4</td>\n",
       "      <td>655</td>\n",
       "      <td>0050A, 0050B, 0050C, 0050D, 0050P1</td>\n",
       "      <td>BARANGAY UPPER SINANGKAPAN COVERED COURT (BUSC...</td>\n",
       "    </tr>\n",
       "    <tr>\n",
       "      <th>4</th>\n",
       "      <td>BARMM</td>\n",
       "      <td>BASILAN</td>\n",
       "      <td>AKBAR</td>\n",
       "      <td>CADDAYAN</td>\n",
       "      <td>7080005</td>\n",
       "      <td>5</td>\n",
       "      <td>479</td>\n",
       "      <td>0054A, 0055A, 0055B, 0055C, 0055P1</td>\n",
       "      <td>CADDAYAN ELEMENTARY SCHOOL, BARANGAY CADDAYAN,...</td>\n",
       "    </tr>\n",
       "  </tbody>\n",
       "</table>\n",
       "</div>"
      ],
      "text/plain": [
       "  region province   city           barangay  precinct_id  CLUSTER  \\\n",
       "0  BARMM  BASILAN  AKBAR           LINONGAN      7080001        1   \n",
       "1  BARMM  BASILAN  AKBAR           LINONGAN      7080002        2   \n",
       "2  BARMM  BASILAN  AKBAR            MANGUSO      7080003        3   \n",
       "3  BARMM  BASILAN  AKBAR  UPPER SINANGKAPAN      7080004        4   \n",
       "4  BARMM  BASILAN  AKBAR           CADDAYAN      7080005        5   \n",
       "\n",
       "   CLUSTERTOTAL                 CLUSTERED_PRECINCTS  \\\n",
       "0           423                0012A, 0012P1, 0011A   \n",
       "1           411                 0011B, 0011C, 0012B   \n",
       "2           313         0035A, 0035C, 0035P1, 0035B   \n",
       "3           655  0050A, 0050B, 0050C, 0050D, 0050P1   \n",
       "4           479  0054A, 0055A, 0055B, 0055C, 0055P1   \n",
       "\n",
       "                                       POLLINGCENTER  \n",
       "0  LINONGAN ELEMENTARY SCHOOL, BARANGAY LINONGAN,...  \n",
       "1  LINONGAN ELEMENTARY SCHOOL, BARANGAY LINONGAN,...  \n",
       "2  AKBAR ELEMENTARY SCHOOL, BARANGAY UPPER BATO-B...  \n",
       "3  BARANGAY UPPER SINANGKAPAN COVERED COURT (BUSC...  \n",
       "4  CADDAYAN ELEMENTARY SCHOOL, BARANGAY CADDAYAN,...  "
      ]
     },
     "execution_count": 187,
     "metadata": {},
     "output_type": "execute_result"
    }
   ],
   "source": [
    "population.head()"
   ]
  },
  {
   "cell_type": "code",
   "execution_count": 122,
   "id": "7f8f509f",
   "metadata": {
    "scrolled": true
   },
   "outputs": [
    {
     "name": "stdout",
     "output_type": "stream",
     "text": [
      "Precint IDs w/o match \n",
      "16         7090004\n",
      "38         7010004\n",
      "64         7010030\n",
      "66         7010032\n",
      "67         7010033\n",
      "            ...   \n",
      "106571    67240146\n",
      "106580    67240155\n",
      "106581    67240156\n",
      "106589    67240164\n",
      "106590    67240165\n",
      "Name: PRECINCT_ID, Length: 2119, dtype: int64\n"
     ]
    }
   ],
   "source": [
    "# Precint w/o votes\n",
    "\n",
    "president_prec_id = pres.loc[:,\"Precinct ID\"]\n",
    "population_prec_id = population.loc[:,\"PRECINCT_ID\"]\n",
    "\n",
    "# bool series\n",
    "prec_id_match = population_prec_id.isin(president_prec_id)\n",
    "\n",
    "prec_id_no_match = population_prec_id[~prec_id_match]\n",
    "\n",
    "print(f\"Precint IDs w/o match \\n{no_match}\")\n",
    "\n",
    "# why no votes?\n",
    "# may precints din ba na hindi nag vote nung 2016 na nag vote now? where is the data?"
   ]
  },
  {
   "cell_type": "code",
   "execution_count": 177,
   "id": "395241f9",
   "metadata": {},
   "outputs": [
    {
     "name": "stdout",
     "output_type": "stream",
     "text": [
      "Precint IDs w/o match \n",
      "767       BUTIG\n",
      "768       BUTIG\n",
      "769       BUTIG\n",
      "770       BUTIG\n",
      "771       BUTIG\n",
      "          ...  \n",
      "58351    SIBUCO\n",
      "58352    SIBUCO\n",
      "58353    SIBUCO\n",
      "58354    SIBUCO\n",
      "58355    SIBUCO\n",
      "Name: MUNICIPALITY, Length: 436, dtype: object\n"
     ]
    }
   ],
   "source": [
    "# city and municipality equality check\n",
    "\n",
    "president_prec_id = pres.loc[:,\"City\"]\n",
    "population_prec_id = population.loc[:,\"MUNICIPALITY\"]\n",
    "\n",
    "# bool series\n",
    "prec_id_match = population_prec_id.isin(president_prec_id)\n",
    "\n",
    "prec_id_no_match = population_prec_id[~prec_id_match]\n",
    "\n",
    "print(f\"Precint IDs w/o match \\n{prec_id_no_match}\")"
   ]
  },
  {
   "cell_type": "code",
   "execution_count": 142,
   "id": "53a7bcc5",
   "metadata": {},
   "outputs": [],
   "source": [
    "no_match = population[\"PRECINCT_ID\"].isin(prec_id_no_match)\n",
    "\n",
    "# inverse no match to get matched\n",
    "population_matched = population[~no_match]\n",
    "\n",
    "# population_matched.to_csv(\"2022NLEPOP_matched.csv\", index=False)\n"
   ]
  },
  {
   "cell_type": "code",
   "execution_count": 6,
   "id": "e3c7c88d",
   "metadata": {},
   "outputs": [
    {
     "data": {
      "text/html": [
       "<div>\n",
       "<style scoped>\n",
       "    .dataframe tbody tr th:only-of-type {\n",
       "        vertical-align: middle;\n",
       "    }\n",
       "\n",
       "    .dataframe tbody tr th {\n",
       "        vertical-align: top;\n",
       "    }\n",
       "\n",
       "    .dataframe thead th {\n",
       "        text-align: right;\n",
       "    }\n",
       "</style>\n",
       "<table border=\"1\" class=\"dataframe\">\n",
       "  <thead>\n",
       "    <tr style=\"text-align: right;\">\n",
       "      <th></th>\n",
       "      <th>region</th>\n",
       "      <th>province</th>\n",
       "      <th>municipality</th>\n",
       "      <th>barangay</th>\n",
       "      <th>clustered_precinct</th>\n",
       "      <th>cayetano</th>\n",
       "      <th>escudero</th>\n",
       "      <th>honasan</th>\n",
       "      <th>marcos</th>\n",
       "      <th>robredo</th>\n",
       "      <th>trillanes</th>\n",
       "      <th>registered_voters</th>\n",
       "      <th>ballots_cast</th>\n",
       "      <th>precincts</th>\n",
       "      <th>polling_center</th>\n",
       "      <th>timestamp</th>\n",
       "    </tr>\n",
       "  </thead>\n",
       "  <tbody>\n",
       "    <tr>\n",
       "      <th>0</th>\n",
       "      <td>REGION I</td>\n",
       "      <td>PANGASINAN</td>\n",
       "      <td>CALASIAO</td>\n",
       "      <td>BUENLAG</td>\n",
       "      <td>55170026</td>\n",
       "      <td>25</td>\n",
       "      <td>47</td>\n",
       "      <td>8</td>\n",
       "      <td>230</td>\n",
       "      <td>138</td>\n",
       "      <td>8</td>\n",
       "      <td>592</td>\n",
       "      <td>503</td>\n",
       "      <td>0060A, 0060B, 0061A, 0062A</td>\n",
       "      <td>BUENLAG ELEMENTARY SCHOOL</td>\n",
       "      <td>05/09/2016 19:11:37</td>\n",
       "    </tr>\n",
       "    <tr>\n",
       "      <th>1</th>\n",
       "      <td>REGION I</td>\n",
       "      <td>PANGASINAN</td>\n",
       "      <td>CALASIAO</td>\n",
       "      <td>BUENLAG</td>\n",
       "      <td>55170027</td>\n",
       "      <td>28</td>\n",
       "      <td>52</td>\n",
       "      <td>3</td>\n",
       "      <td>191</td>\n",
       "      <td>137</td>\n",
       "      <td>7</td>\n",
       "      <td>526</td>\n",
       "      <td>458</td>\n",
       "      <td>0062B, 0063A, 0063B, 0064A</td>\n",
       "      <td>BUENLAG ELEMENTARY SCHOOL</td>\n",
       "      <td>05/09/2016 18:39:48</td>\n",
       "    </tr>\n",
       "    <tr>\n",
       "      <th>2</th>\n",
       "      <td>REGION I</td>\n",
       "      <td>PANGASINAN</td>\n",
       "      <td>CALASIAO</td>\n",
       "      <td>BUENLAG</td>\n",
       "      <td>55170023</td>\n",
       "      <td>32</td>\n",
       "      <td>75</td>\n",
       "      <td>5</td>\n",
       "      <td>295</td>\n",
       "      <td>156</td>\n",
       "      <td>12</td>\n",
       "      <td>723</td>\n",
       "      <td>649</td>\n",
       "      <td>0051C, 0052A, 0052B, 0053A, 0053B</td>\n",
       "      <td>BUENLAG ELEMENTARY SCHOOL</td>\n",
       "      <td>05/09/2016 18:36:49</td>\n",
       "    </tr>\n",
       "    <tr>\n",
       "      <th>3</th>\n",
       "      <td>REGION I</td>\n",
       "      <td>PANGASINAN</td>\n",
       "      <td>CALASIAO</td>\n",
       "      <td>BUENLAG</td>\n",
       "      <td>55170022</td>\n",
       "      <td>50</td>\n",
       "      <td>91</td>\n",
       "      <td>5</td>\n",
       "      <td>291</td>\n",
       "      <td>172</td>\n",
       "      <td>14</td>\n",
       "      <td>768</td>\n",
       "      <td>650</td>\n",
       "      <td>0049A, 0050A, 0050B, 0051A, 0051B</td>\n",
       "      <td>BUENLAG ELEMENTARY SCHOOL</td>\n",
       "      <td>05/09/2016 17:12:03</td>\n",
       "    </tr>\n",
       "    <tr>\n",
       "      <th>4</th>\n",
       "      <td>REGION I</td>\n",
       "      <td>PANGASINAN</td>\n",
       "      <td>CALASIAO</td>\n",
       "      <td>BUENLAG</td>\n",
       "      <td>55170025</td>\n",
       "      <td>58</td>\n",
       "      <td>96</td>\n",
       "      <td>3</td>\n",
       "      <td>303</td>\n",
       "      <td>162</td>\n",
       "      <td>14</td>\n",
       "      <td>787</td>\n",
       "      <td>662</td>\n",
       "      <td>0056C, 0057A, 0057B, 0058A, 0058B, 0059A, 0059B</td>\n",
       "      <td>BUENLAG ELEMENTARY SCHOOL</td>\n",
       "      <td>05/09/2016 18:34:08</td>\n",
       "    </tr>\n",
       "  </tbody>\n",
       "</table>\n",
       "</div>"
      ],
      "text/plain": [
       "     region    province municipality barangay  clustered_precinct  cayetano  \\\n",
       "0  REGION I  PANGASINAN     CALASIAO  BUENLAG            55170026        25   \n",
       "1  REGION I  PANGASINAN     CALASIAO  BUENLAG            55170027        28   \n",
       "2  REGION I  PANGASINAN     CALASIAO  BUENLAG            55170023        32   \n",
       "3  REGION I  PANGASINAN     CALASIAO  BUENLAG            55170022        50   \n",
       "4  REGION I  PANGASINAN     CALASIAO  BUENLAG            55170025        58   \n",
       "\n",
       "   escudero  honasan  marcos  robredo  trillanes  registered_voters  \\\n",
       "0        47        8     230      138          8                592   \n",
       "1        52        3     191      137          7                526   \n",
       "2        75        5     295      156         12                723   \n",
       "3        91        5     291      172         14                768   \n",
       "4        96        3     303      162         14                787   \n",
       "\n",
       "   ballots_cast                                        precincts  \\\n",
       "0           503                       0060A, 0060B, 0061A, 0062A   \n",
       "1           458                       0062B, 0063A, 0063B, 0064A   \n",
       "2           649                0051C, 0052A, 0052B, 0053A, 0053B   \n",
       "3           650                0049A, 0050A, 0050B, 0051A, 0051B   \n",
       "4           662  0056C, 0057A, 0057B, 0058A, 0058B, 0059A, 0059B   \n",
       "\n",
       "              polling_center            timestamp  \n",
       "0  BUENLAG ELEMENTARY SCHOOL  05/09/2016 19:11:37  \n",
       "1  BUENLAG ELEMENTARY SCHOOL  05/09/2016 18:39:48  \n",
       "2  BUENLAG ELEMENTARY SCHOOL  05/09/2016 18:36:49  \n",
       "3  BUENLAG ELEMENTARY SCHOOL  05/09/2016 17:12:03  \n",
       "4  BUENLAG ELEMENTARY SCHOOL  05/09/2016 18:34:08  "
      ]
     },
     "execution_count": 6,
     "metadata": {},
     "output_type": "execute_result"
    }
   ],
   "source": [
    "vp.head()"
   ]
  },
  {
   "cell_type": "code",
   "execution_count": 6,
   "id": "9bb7251d",
   "metadata": {},
   "outputs": [
    {
     "name": "stdout",
     "output_type": "stream",
     "text": [
      "Mean 139.92561467264778, Trimmed mean 125.82562046040647, Median 121.0\n"
     ]
    }
   ],
   "source": [
    "mean = pres[\"ROBREDO, LENI (IND)\"].mean()\n",
    "trim_mean = stats.trim_mean(pres[\"ROBREDO, LENI (IND)\"], 0.1)\n",
    "median = pres[\"ROBREDO, LENI (IND)\"].median()\n",
    "\n",
    "print(f\"Mean {mean}, Trimmed mean {trim_mean}, Median {median}\")"
   ]
  },
  {
   "cell_type": "code",
   "execution_count": 189,
   "id": "4cdb595b",
   "metadata": {},
   "outputs": [],
   "source": [
    "merged_2022 = pd.merge(pres, population, how=\"left\", on=[\"region\",\"province\",\"barangay\",\"precinct_id\",\"city\"])\n",
    "\n",
    "# merged_2022.to_csv(\"merged_2022.csv\", index=False)"
   ]
  },
  {
   "cell_type": "code",
   "execution_count": 164,
   "id": "d3dd5820",
   "metadata": {},
   "outputs": [
    {
     "name": "stdout",
     "output_type": "stream",
     "text": [
      "region\n",
      "province\n",
      "barangay\n",
      "precinct_id\n"
     ]
    }
   ],
   "source": [
    "pres_keys = list(map(lambda x : x.lower(), pres.keys()))\n",
    "pop_keys = list(map(lambda x : x.lower(), population.keys()))\n",
    "\n",
    "for x in pres_keys:\n",
    "    if x in pop_keys:\n",
    "        print(x)"
   ]
  },
  {
   "cell_type": "code",
   "execution_count": 222,
   "id": "16542a86",
   "metadata": {},
   "outputs": [],
   "source": [
    "merged_2022 = pd.read_csv(\"merged_2022.csv\")"
   ]
  },
  {
   "cell_type": "code",
   "execution_count": 215,
   "id": "79522a98",
   "metadata": {},
   "outputs": [
    {
     "data": {
      "text/html": [
       "<div>\n",
       "<style scoped>\n",
       "    .dataframe tbody tr th:only-of-type {\n",
       "        vertical-align: middle;\n",
       "    }\n",
       "\n",
       "    .dataframe tbody tr th {\n",
       "        vertical-align: top;\n",
       "    }\n",
       "\n",
       "    .dataframe thead th {\n",
       "        text-align: right;\n",
       "    }\n",
       "</style>\n",
       "<table border=\"1\" class=\"dataframe\">\n",
       "  <thead>\n",
       "    <tr style=\"text-align: right;\">\n",
       "      <th></th>\n",
       "      <th>region</th>\n",
       "      <th>province</th>\n",
       "      <th>city</th>\n",
       "      <th>barangay</th>\n",
       "      <th>precinct_id</th>\n",
       "      <th>ABELLA, ERNIE (IND)</th>\n",
       "      <th>DE GUZMAN, LEODY (PLM)</th>\n",
       "      <th>DOMAGOSO, ISKO MORENO (AKSYON)</th>\n",
       "      <th>GONZALES, NORBERTO (PDSP)</th>\n",
       "      <th>LACSON, PING (PDR)</th>\n",
       "      <th>MANGONDATO, FAISAL (KTPNAN)</th>\n",
       "      <th>MARCOS, BONGBONG (PFP)</th>\n",
       "      <th>MONTEMAYOR, JOSE JR. (DPP)</th>\n",
       "      <th>PACQUIAO, MANNY PACMAN(PROMDI)</th>\n",
       "      <th>ROBREDO, LENI (IND)</th>\n",
       "      <th>CLUSTER</th>\n",
       "      <th>CLUSTERTOTAL</th>\n",
       "      <th>CLUSTERED_PRECINCTS</th>\n",
       "      <th>POLLINGCENTER</th>\n",
       "    </tr>\n",
       "  </thead>\n",
       "  <tbody>\n",
       "    <tr>\n",
       "      <th>13325</th>\n",
       "      <td>NATIONAL CAPITAL REGION</td>\n",
       "      <td>NCR - MANILA</td>\n",
       "      <td>MALATE</td>\n",
       "      <td>BARANGAY 725</td>\n",
       "      <td>39101380</td>\n",
       "      <td>0</td>\n",
       "      <td>0</td>\n",
       "      <td>73</td>\n",
       "      <td>0</td>\n",
       "      <td>7</td>\n",
       "      <td>0</td>\n",
       "      <td>112</td>\n",
       "      <td>0</td>\n",
       "      <td>1</td>\n",
       "      <td>251</td>\n",
       "      <td>NaN</td>\n",
       "      <td>NaN</td>\n",
       "      <td>NaN</td>\n",
       "      <td>NaN</td>\n",
       "    </tr>\n",
       "  </tbody>\n",
       "</table>\n",
       "</div>"
      ],
      "text/plain": [
       "                        region      province    city      barangay  \\\n",
       "13325  NATIONAL CAPITAL REGION  NCR - MANILA  MALATE  BARANGAY 725   \n",
       "\n",
       "       precinct_id  ABELLA, ERNIE (IND)  DE GUZMAN, LEODY (PLM)  \\\n",
       "13325     39101380                    0                       0   \n",
       "\n",
       "       DOMAGOSO, ISKO MORENO (AKSYON)  GONZALES, NORBERTO (PDSP)  \\\n",
       "13325                              73                          0   \n",
       "\n",
       "       LACSON, PING (PDR)  MANGONDATO, FAISAL (KTPNAN)  \\\n",
       "13325                   7                            0   \n",
       "\n",
       "       MARCOS, BONGBONG (PFP)  MONTEMAYOR, JOSE JR. (DPP)  \\\n",
       "13325                     112                           0   \n",
       "\n",
       "       PACQUIAO, MANNY PACMAN(PROMDI)  ROBREDO, LENI (IND)  CLUSTER  \\\n",
       "13325                               1                  251      NaN   \n",
       "\n",
       "       CLUSTERTOTAL CLUSTERED_PRECINCTS POLLINGCENTER  \n",
       "13325           NaN                 NaN           NaN  "
      ]
     },
     "execution_count": 215,
     "metadata": {},
     "output_type": "execute_result"
    }
   ],
   "source": [
    "merged_2022.loc[merged_2022[\"precinct_id\"] == 39101380]"
   ]
  },
  {
   "cell_type": "code",
   "execution_count": 192,
   "id": "b5e6ffb5",
   "metadata": {},
   "outputs": [
    {
     "data": {
      "text/plain": [
       "0         13010009\n",
       "1         13010010\n",
       "2         13010011\n",
       "3         13010012\n",
       "4         13010013\n",
       "            ...   \n",
       "105661     8120018\n",
       "105662     8120049\n",
       "105663     8120050\n",
       "105664     8120003\n",
       "105665     8120004\n",
       "Name: precinct_id, Length: 105666, dtype: int64"
      ]
     },
     "execution_count": 192,
     "metadata": {},
     "output_type": "execute_result"
    }
   ],
   "source": [
    "pres[\"precinct_id\"]"
   ]
  },
  {
   "cell_type": "code",
   "execution_count": 212,
   "id": "74ea6d0e",
   "metadata": {},
   "outputs": [
    {
     "name": "stdout",
     "output_type": "stream",
     "text": [
      "True\n"
     ]
    }
   ],
   "source": [
    "# check kung match lahat\n",
    "# merged_2022 precinct ids == pres_precinct_data ids\n",
    "\n",
    "x = merged_2022[\"precinct_id\"].tolist()\n",
    "y = pres[\"precinct_id\"].tolist()\n",
    "\n",
    "print(x == y)\n",
    "        "
   ]
  },
  {
   "cell_type": "code",
   "execution_count": 213,
   "id": "5f355063",
   "metadata": {},
   "outputs": [
    {
     "data": {
      "application/vnd.jupyter.widget-view+json": {
       "model_id": "809163fc45fd42baa06128552e966095",
       "version_major": 2,
       "version_minor": 0
      },
      "text/plain": [
       "Summarize dataset:   0%|          | 0/5 [00:00<?, ?it/s]"
      ]
     },
     "metadata": {},
     "output_type": "display_data"
    },
    {
     "name": "stderr",
     "output_type": "stream",
     "text": [
      "C:\\Users\\Martin\\AppData\\Local\\pypoetry\\Cache\\virtualenvs\\pjdsc-1LJUQi52-py3.10\\lib\\site-packages\\scipy\\stats\\_stats_py.py:4868: RuntimeWarning: overflow encountered in longlong_scalars\n",
      "  (2 * xtie * ytie) / m + x0 * y0 / (9 * m * (size - 2)))\n"
     ]
    },
    {
     "data": {
      "application/vnd.jupyter.widget-view+json": {
       "model_id": "dbec46abd7bf424588fb8d1fbbd1374b",
       "version_major": 2,
       "version_minor": 0
      },
      "text/plain": [
       "Generate report structure:   0%|          | 0/1 [00:00<?, ?it/s]"
      ]
     },
     "metadata": {},
     "output_type": "display_data"
    },
    {
     "data": {
      "application/vnd.jupyter.widget-view+json": {
       "model_id": "010b082aff4e4327aeb1a95dcb5dc3bd",
       "version_major": 2,
       "version_minor": 0
      },
      "text/plain": [
       "Render HTML:   0%|          | 0/1 [00:00<?, ?it/s]"
      ]
     },
     "metadata": {},
     "output_type": "display_data"
    },
    {
     "data": {
      "application/vnd.jupyter.widget-view+json": {
       "model_id": "3d190ec5c9464fb2a552666f1085bacf",
       "version_major": 2,
       "version_minor": 0
      },
      "text/plain": [
       "Export report to file:   0%|          | 0/1 [00:00<?, ?it/s]"
      ]
     },
     "metadata": {},
     "output_type": "display_data"
    }
   ],
   "source": [
    "profile = ProfileReport(merged_2022, title=\"merged_2022\", explorative=True)\n",
    "profile.to_file(\"merged_2022.html\")"
   ]
  },
  {
   "cell_type": "code",
   "execution_count": 223,
   "id": "2e08d29f",
   "metadata": {},
   "outputs": [
    {
     "data": {
      "text/html": [
       "<div>\n",
       "<style scoped>\n",
       "    .dataframe tbody tr th:only-of-type {\n",
       "        vertical-align: middle;\n",
       "    }\n",
       "\n",
       "    .dataframe tbody tr th {\n",
       "        vertical-align: top;\n",
       "    }\n",
       "\n",
       "    .dataframe thead th {\n",
       "        text-align: right;\n",
       "    }\n",
       "</style>\n",
       "<table border=\"1\" class=\"dataframe\">\n",
       "  <thead>\n",
       "    <tr style=\"text-align: right;\">\n",
       "      <th></th>\n",
       "      <th>region</th>\n",
       "      <th>province</th>\n",
       "      <th>city</th>\n",
       "      <th>barangay</th>\n",
       "      <th>precinct_id</th>\n",
       "      <th>ABELLA, ERNIE (IND)</th>\n",
       "      <th>DE GUZMAN, LEODY (PLM)</th>\n",
       "      <th>DOMAGOSO, ISKO MORENO (AKSYON)</th>\n",
       "      <th>GONZALES, NORBERTO (PDSP)</th>\n",
       "      <th>LACSON, PING (PDR)</th>\n",
       "      <th>MANGONDATO, FAISAL (KTPNAN)</th>\n",
       "      <th>MARCOS, BONGBONG (PFP)</th>\n",
       "      <th>MONTEMAYOR, JOSE JR. (DPP)</th>\n",
       "      <th>PACQUIAO, MANNY PACMAN(PROMDI)</th>\n",
       "      <th>ROBREDO, LENI (IND)</th>\n",
       "      <th>CLUSTER</th>\n",
       "      <th>CLUSTERTOTAL</th>\n",
       "      <th>CLUSTERED_PRECINCTS</th>\n",
       "      <th>POLLINGCENTER</th>\n",
       "    </tr>\n",
       "  </thead>\n",
       "  <tbody>\n",
       "    <tr>\n",
       "      <th>0</th>\n",
       "      <td>REGION X</td>\n",
       "      <td>BUKIDNON</td>\n",
       "      <td>BAUNGON</td>\n",
       "      <td>BALINTAD</td>\n",
       "      <td>13010009</td>\n",
       "      <td>2</td>\n",
       "      <td>1</td>\n",
       "      <td>4</td>\n",
       "      <td>0</td>\n",
       "      <td>0</td>\n",
       "      <td>1</td>\n",
       "      <td>224</td>\n",
       "      <td>0</td>\n",
       "      <td>115</td>\n",
       "      <td>29</td>\n",
       "      <td>9.0</td>\n",
       "      <td>486.0</td>\n",
       "      <td>0014A, 0015A, 0015B, 0014B</td>\n",
       "      <td>BALINTAD, ELEMENTARY SCHOOL, BALINTAD, BAUNGON...</td>\n",
       "    </tr>\n",
       "    <tr>\n",
       "      <th>1</th>\n",
       "      <td>REGION X</td>\n",
       "      <td>BUKIDNON</td>\n",
       "      <td>BAUNGON</td>\n",
       "      <td>BUENAVISTA</td>\n",
       "      <td>13010010</td>\n",
       "      <td>3</td>\n",
       "      <td>5</td>\n",
       "      <td>7</td>\n",
       "      <td>5</td>\n",
       "      <td>0</td>\n",
       "      <td>2</td>\n",
       "      <td>310</td>\n",
       "      <td>1</td>\n",
       "      <td>188</td>\n",
       "      <td>47</td>\n",
       "      <td>10.0</td>\n",
       "      <td>769.0</td>\n",
       "      <td>0016A, 0016B, 0017A, 0017B, 0017C</td>\n",
       "      <td>BUENAVISTA, ELEMENTARY SCHOOL, BUENAVISTA, BAU...</td>\n",
       "    </tr>\n",
       "    <tr>\n",
       "      <th>2</th>\n",
       "      <td>REGION X</td>\n",
       "      <td>BUKIDNON</td>\n",
       "      <td>BAUNGON</td>\n",
       "      <td>DANATAG</td>\n",
       "      <td>13010011</td>\n",
       "      <td>4</td>\n",
       "      <td>3</td>\n",
       "      <td>9</td>\n",
       "      <td>4</td>\n",
       "      <td>3</td>\n",
       "      <td>0</td>\n",
       "      <td>288</td>\n",
       "      <td>4</td>\n",
       "      <td>152</td>\n",
       "      <td>44</td>\n",
       "      <td>11.0</td>\n",
       "      <td>645.0</td>\n",
       "      <td>0018A, 0018B, 0019A, 0019B</td>\n",
       "      <td>DANATAG, ELEMENTARY SCHOOL, DANATAG, BAUNGON, ...</td>\n",
       "    </tr>\n",
       "    <tr>\n",
       "      <th>3</th>\n",
       "      <td>REGION X</td>\n",
       "      <td>BUKIDNON</td>\n",
       "      <td>BAUNGON</td>\n",
       "      <td>DANATAG</td>\n",
       "      <td>13010012</td>\n",
       "      <td>2</td>\n",
       "      <td>2</td>\n",
       "      <td>16</td>\n",
       "      <td>2</td>\n",
       "      <td>3</td>\n",
       "      <td>0</td>\n",
       "      <td>190</td>\n",
       "      <td>3</td>\n",
       "      <td>160</td>\n",
       "      <td>51</td>\n",
       "      <td>12.0</td>\n",
       "      <td>592.0</td>\n",
       "      <td>0020A, 0020B, 0021A, 0021B, 0024A</td>\n",
       "      <td>DANATAG, ELEMENTARY SCHOOL, DANATAG, BAUNGON, ...</td>\n",
       "    </tr>\n",
       "    <tr>\n",
       "      <th>4</th>\n",
       "      <td>REGION X</td>\n",
       "      <td>BUKIDNON</td>\n",
       "      <td>BAUNGON</td>\n",
       "      <td>DANATAG</td>\n",
       "      <td>13010013</td>\n",
       "      <td>0</td>\n",
       "      <td>1</td>\n",
       "      <td>16</td>\n",
       "      <td>4</td>\n",
       "      <td>6</td>\n",
       "      <td>0</td>\n",
       "      <td>272</td>\n",
       "      <td>2</td>\n",
       "      <td>125</td>\n",
       "      <td>46</td>\n",
       "      <td>13.0</td>\n",
       "      <td>593.0</td>\n",
       "      <td>0022A, 0022B, 0023A, 0023B</td>\n",
       "      <td>DANATAG, ELEMENTARY SCHOOL, DANATAG, BAUNGON, ...</td>\n",
       "    </tr>\n",
       "  </tbody>\n",
       "</table>\n",
       "</div>"
      ],
      "text/plain": [
       "     region  province     city    barangay  precinct_id  ABELLA, ERNIE (IND)  \\\n",
       "0  REGION X  BUKIDNON  BAUNGON    BALINTAD     13010009                    2   \n",
       "1  REGION X  BUKIDNON  BAUNGON  BUENAVISTA     13010010                    3   \n",
       "2  REGION X  BUKIDNON  BAUNGON     DANATAG     13010011                    4   \n",
       "3  REGION X  BUKIDNON  BAUNGON     DANATAG     13010012                    2   \n",
       "4  REGION X  BUKIDNON  BAUNGON     DANATAG     13010013                    0   \n",
       "\n",
       "   DE GUZMAN, LEODY (PLM)  DOMAGOSO, ISKO MORENO (AKSYON)  \\\n",
       "0                       1                               4   \n",
       "1                       5                               7   \n",
       "2                       3                               9   \n",
       "3                       2                              16   \n",
       "4                       1                              16   \n",
       "\n",
       "   GONZALES, NORBERTO (PDSP)  LACSON, PING (PDR)  MANGONDATO, FAISAL (KTPNAN)  \\\n",
       "0                          0                   0                            1   \n",
       "1                          5                   0                            2   \n",
       "2                          4                   3                            0   \n",
       "3                          2                   3                            0   \n",
       "4                          4                   6                            0   \n",
       "\n",
       "   MARCOS, BONGBONG (PFP)  MONTEMAYOR, JOSE JR. (DPP)  \\\n",
       "0                     224                           0   \n",
       "1                     310                           1   \n",
       "2                     288                           4   \n",
       "3                     190                           3   \n",
       "4                     272                           2   \n",
       "\n",
       "   PACQUIAO, MANNY PACMAN(PROMDI)  ROBREDO, LENI (IND)  CLUSTER  CLUSTERTOTAL  \\\n",
       "0                             115                   29      9.0         486.0   \n",
       "1                             188                   47     10.0         769.0   \n",
       "2                             152                   44     11.0         645.0   \n",
       "3                             160                   51     12.0         592.0   \n",
       "4                             125                   46     13.0         593.0   \n",
       "\n",
       "                 CLUSTERED_PRECINCTS  \\\n",
       "0         0014A, 0015A, 0015B, 0014B   \n",
       "1  0016A, 0016B, 0017A, 0017B, 0017C   \n",
       "2         0018A, 0018B, 0019A, 0019B   \n",
       "3  0020A, 0020B, 0021A, 0021B, 0024A   \n",
       "4         0022A, 0022B, 0023A, 0023B   \n",
       "\n",
       "                                       POLLINGCENTER  \n",
       "0  BALINTAD, ELEMENTARY SCHOOL, BALINTAD, BAUNGON...  \n",
       "1  BUENAVISTA, ELEMENTARY SCHOOL, BUENAVISTA, BAU...  \n",
       "2  DANATAG, ELEMENTARY SCHOOL, DANATAG, BAUNGON, ...  \n",
       "3  DANATAG, ELEMENTARY SCHOOL, DANATAG, BAUNGON, ...  \n",
       "4  DANATAG, ELEMENTARY SCHOOL, DANATAG, BAUNGON, ...  "
      ]
     },
     "execution_count": 223,
     "metadata": {},
     "output_type": "execute_result"
    }
   ],
   "source": [
    "merged_2022.head()"
   ]
  },
  {
   "cell_type": "code",
   "execution_count": 227,
   "id": "b79d140a",
   "metadata": {},
   "outputs": [
    {
     "data": {
      "text/plain": [
       "(105666, 19)"
      ]
     },
     "execution_count": 227,
     "metadata": {},
     "output_type": "execute_result"
    }
   ],
   "source": [
    "merged_2022.shape"
   ]
  },
  {
   "cell_type": "code",
   "execution_count": 226,
   "id": "03d2a2b8",
   "metadata": {},
   "outputs": [],
   "source": [
    "# remove null values from merged_2022\n",
    "merged_2022_cleaned = merged_2022.dropna()\n"
   ]
  },
  {
   "cell_type": "code",
   "execution_count": 228,
   "id": "09f2634f",
   "metadata": {},
   "outputs": [
    {
     "data": {
      "text/plain": [
       "(90944, 19)"
      ]
     },
     "execution_count": 228,
     "metadata": {},
     "output_type": "execute_result"
    }
   ],
   "source": [
    "merged_2022_cleaned.shape"
   ]
  },
  {
   "cell_type": "code",
   "execution_count": 229,
   "id": "eb1388eb",
   "metadata": {
    "scrolled": true
   },
   "outputs": [
    {
     "data": {
      "text/html": [
       "<div>\n",
       "<style scoped>\n",
       "    .dataframe tbody tr th:only-of-type {\n",
       "        vertical-align: middle;\n",
       "    }\n",
       "\n",
       "    .dataframe tbody tr th {\n",
       "        vertical-align: top;\n",
       "    }\n",
       "\n",
       "    .dataframe thead th {\n",
       "        text-align: right;\n",
       "    }\n",
       "</style>\n",
       "<table border=\"1\" class=\"dataframe\">\n",
       "  <thead>\n",
       "    <tr style=\"text-align: right;\">\n",
       "      <th></th>\n",
       "      <th>region</th>\n",
       "      <th>province</th>\n",
       "      <th>city</th>\n",
       "      <th>barangay</th>\n",
       "      <th>precinct_id</th>\n",
       "      <th>ABELLA, ERNIE (IND)</th>\n",
       "      <th>DE GUZMAN, LEODY (PLM)</th>\n",
       "      <th>DOMAGOSO, ISKO MORENO (AKSYON)</th>\n",
       "      <th>GONZALES, NORBERTO (PDSP)</th>\n",
       "      <th>LACSON, PING (PDR)</th>\n",
       "      <th>MANGONDATO, FAISAL (KTPNAN)</th>\n",
       "      <th>MARCOS, BONGBONG (PFP)</th>\n",
       "      <th>MONTEMAYOR, JOSE JR. (DPP)</th>\n",
       "      <th>PACQUIAO, MANNY PACMAN(PROMDI)</th>\n",
       "      <th>ROBREDO, LENI (IND)</th>\n",
       "      <th>CLUSTER</th>\n",
       "      <th>CLUSTERTOTAL</th>\n",
       "      <th>CLUSTERED_PRECINCTS</th>\n",
       "      <th>POLLINGCENTER</th>\n",
       "    </tr>\n",
       "  </thead>\n",
       "  <tbody>\n",
       "    <tr>\n",
       "      <th>0</th>\n",
       "      <td>REGION X</td>\n",
       "      <td>BUKIDNON</td>\n",
       "      <td>BAUNGON</td>\n",
       "      <td>BALINTAD</td>\n",
       "      <td>13010009</td>\n",
       "      <td>2</td>\n",
       "      <td>1</td>\n",
       "      <td>4</td>\n",
       "      <td>0</td>\n",
       "      <td>0</td>\n",
       "      <td>1</td>\n",
       "      <td>224</td>\n",
       "      <td>0</td>\n",
       "      <td>115</td>\n",
       "      <td>29</td>\n",
       "      <td>9.0</td>\n",
       "      <td>486.0</td>\n",
       "      <td>0014A, 0015A, 0015B, 0014B</td>\n",
       "      <td>BALINTAD, ELEMENTARY SCHOOL, BALINTAD, BAUNGON...</td>\n",
       "    </tr>\n",
       "    <tr>\n",
       "      <th>1</th>\n",
       "      <td>REGION X</td>\n",
       "      <td>BUKIDNON</td>\n",
       "      <td>BAUNGON</td>\n",
       "      <td>BUENAVISTA</td>\n",
       "      <td>13010010</td>\n",
       "      <td>3</td>\n",
       "      <td>5</td>\n",
       "      <td>7</td>\n",
       "      <td>5</td>\n",
       "      <td>0</td>\n",
       "      <td>2</td>\n",
       "      <td>310</td>\n",
       "      <td>1</td>\n",
       "      <td>188</td>\n",
       "      <td>47</td>\n",
       "      <td>10.0</td>\n",
       "      <td>769.0</td>\n",
       "      <td>0016A, 0016B, 0017A, 0017B, 0017C</td>\n",
       "      <td>BUENAVISTA, ELEMENTARY SCHOOL, BUENAVISTA, BAU...</td>\n",
       "    </tr>\n",
       "    <tr>\n",
       "      <th>2</th>\n",
       "      <td>REGION X</td>\n",
       "      <td>BUKIDNON</td>\n",
       "      <td>BAUNGON</td>\n",
       "      <td>DANATAG</td>\n",
       "      <td>13010011</td>\n",
       "      <td>4</td>\n",
       "      <td>3</td>\n",
       "      <td>9</td>\n",
       "      <td>4</td>\n",
       "      <td>3</td>\n",
       "      <td>0</td>\n",
       "      <td>288</td>\n",
       "      <td>4</td>\n",
       "      <td>152</td>\n",
       "      <td>44</td>\n",
       "      <td>11.0</td>\n",
       "      <td>645.0</td>\n",
       "      <td>0018A, 0018B, 0019A, 0019B</td>\n",
       "      <td>DANATAG, ELEMENTARY SCHOOL, DANATAG, BAUNGON, ...</td>\n",
       "    </tr>\n",
       "    <tr>\n",
       "      <th>3</th>\n",
       "      <td>REGION X</td>\n",
       "      <td>BUKIDNON</td>\n",
       "      <td>BAUNGON</td>\n",
       "      <td>DANATAG</td>\n",
       "      <td>13010012</td>\n",
       "      <td>2</td>\n",
       "      <td>2</td>\n",
       "      <td>16</td>\n",
       "      <td>2</td>\n",
       "      <td>3</td>\n",
       "      <td>0</td>\n",
       "      <td>190</td>\n",
       "      <td>3</td>\n",
       "      <td>160</td>\n",
       "      <td>51</td>\n",
       "      <td>12.0</td>\n",
       "      <td>592.0</td>\n",
       "      <td>0020A, 0020B, 0021A, 0021B, 0024A</td>\n",
       "      <td>DANATAG, ELEMENTARY SCHOOL, DANATAG, BAUNGON, ...</td>\n",
       "    </tr>\n",
       "    <tr>\n",
       "      <th>4</th>\n",
       "      <td>REGION X</td>\n",
       "      <td>BUKIDNON</td>\n",
       "      <td>BAUNGON</td>\n",
       "      <td>DANATAG</td>\n",
       "      <td>13010013</td>\n",
       "      <td>0</td>\n",
       "      <td>1</td>\n",
       "      <td>16</td>\n",
       "      <td>4</td>\n",
       "      <td>6</td>\n",
       "      <td>0</td>\n",
       "      <td>272</td>\n",
       "      <td>2</td>\n",
       "      <td>125</td>\n",
       "      <td>46</td>\n",
       "      <td>13.0</td>\n",
       "      <td>593.0</td>\n",
       "      <td>0022A, 0022B, 0023A, 0023B</td>\n",
       "      <td>DANATAG, ELEMENTARY SCHOOL, DANATAG, BAUNGON, ...</td>\n",
       "    </tr>\n",
       "  </tbody>\n",
       "</table>\n",
       "</div>"
      ],
      "text/plain": [
       "     region  province     city    barangay  precinct_id  ABELLA, ERNIE (IND)  \\\n",
       "0  REGION X  BUKIDNON  BAUNGON    BALINTAD     13010009                    2   \n",
       "1  REGION X  BUKIDNON  BAUNGON  BUENAVISTA     13010010                    3   \n",
       "2  REGION X  BUKIDNON  BAUNGON     DANATAG     13010011                    4   \n",
       "3  REGION X  BUKIDNON  BAUNGON     DANATAG     13010012                    2   \n",
       "4  REGION X  BUKIDNON  BAUNGON     DANATAG     13010013                    0   \n",
       "\n",
       "   DE GUZMAN, LEODY (PLM)  DOMAGOSO, ISKO MORENO (AKSYON)  \\\n",
       "0                       1                               4   \n",
       "1                       5                               7   \n",
       "2                       3                               9   \n",
       "3                       2                              16   \n",
       "4                       1                              16   \n",
       "\n",
       "   GONZALES, NORBERTO (PDSP)  LACSON, PING (PDR)  MANGONDATO, FAISAL (KTPNAN)  \\\n",
       "0                          0                   0                            1   \n",
       "1                          5                   0                            2   \n",
       "2                          4                   3                            0   \n",
       "3                          2                   3                            0   \n",
       "4                          4                   6                            0   \n",
       "\n",
       "   MARCOS, BONGBONG (PFP)  MONTEMAYOR, JOSE JR. (DPP)  \\\n",
       "0                     224                           0   \n",
       "1                     310                           1   \n",
       "2                     288                           4   \n",
       "3                     190                           3   \n",
       "4                     272                           2   \n",
       "\n",
       "   PACQUIAO, MANNY PACMAN(PROMDI)  ROBREDO, LENI (IND)  CLUSTER  CLUSTERTOTAL  \\\n",
       "0                             115                   29      9.0         486.0   \n",
       "1                             188                   47     10.0         769.0   \n",
       "2                             152                   44     11.0         645.0   \n",
       "3                             160                   51     12.0         592.0   \n",
       "4                             125                   46     13.0         593.0   \n",
       "\n",
       "                 CLUSTERED_PRECINCTS  \\\n",
       "0         0014A, 0015A, 0015B, 0014B   \n",
       "1  0016A, 0016B, 0017A, 0017B, 0017C   \n",
       "2         0018A, 0018B, 0019A, 0019B   \n",
       "3  0020A, 0020B, 0021A, 0021B, 0024A   \n",
       "4         0022A, 0022B, 0023A, 0023B   \n",
       "\n",
       "                                       POLLINGCENTER  \n",
       "0  BALINTAD, ELEMENTARY SCHOOL, BALINTAD, BAUNGON...  \n",
       "1  BUENAVISTA, ELEMENTARY SCHOOL, BUENAVISTA, BAU...  \n",
       "2  DANATAG, ELEMENTARY SCHOOL, DANATAG, BAUNGON, ...  \n",
       "3  DANATAG, ELEMENTARY SCHOOL, DANATAG, BAUNGON, ...  \n",
       "4  DANATAG, ELEMENTARY SCHOOL, DANATAG, BAUNGON, ...  "
      ]
     },
     "execution_count": 229,
     "metadata": {},
     "output_type": "execute_result"
    }
   ],
   "source": [
    "merged_2022_cleaned.head()"
   ]
  },
  {
   "cell_type": "code",
   "execution_count": 230,
   "id": "1f74ab99",
   "metadata": {},
   "outputs": [
    {
     "data": {
      "application/vnd.jupyter.widget-view+json": {
       "model_id": "7102d8e82c3e4831ac38a02de17c5b2d",
       "version_major": 2,
       "version_minor": 0
      },
      "text/plain": [
       "Summarize dataset:   0%|          | 0/5 [00:00<?, ?it/s]"
      ]
     },
     "metadata": {},
     "output_type": "display_data"
    },
    {
     "data": {
      "application/vnd.jupyter.widget-view+json": {
       "model_id": "13dd4340e0dc4799a98d736d136e07d7",
       "version_major": 2,
       "version_minor": 0
      },
      "text/plain": [
       "Generate report structure:   0%|          | 0/1 [00:00<?, ?it/s]"
      ]
     },
     "metadata": {},
     "output_type": "display_data"
    },
    {
     "data": {
      "application/vnd.jupyter.widget-view+json": {
       "model_id": "13e90b61aee141079c351acc461fe1ed",
       "version_major": 2,
       "version_minor": 0
      },
      "text/plain": [
       "Render HTML:   0%|          | 0/1 [00:00<?, ?it/s]"
      ]
     },
     "metadata": {},
     "output_type": "display_data"
    },
    {
     "data": {
      "application/vnd.jupyter.widget-view+json": {
       "model_id": "8c012c1ed5374b81aef73d6d4d69da0c",
       "version_major": 2,
       "version_minor": 0
      },
      "text/plain": [
       "Export report to file:   0%|          | 0/1 [00:00<?, ?it/s]"
      ]
     },
     "metadata": {},
     "output_type": "display_data"
    }
   ],
   "source": [
    "# merged_2022_cleaned.to_csv(\"merged_2022_cleaned.csv\", index=False)\n"
   ]
  },
  {
   "cell_type": "code",
   "execution_count": 232,
   "id": "5448b080",
   "metadata": {
    "scrolled": true
   },
   "outputs": [
    {
     "data": {
      "application/vnd.jupyter.widget-view+json": {
       "model_id": "021782ef827643f9aa5a4874462ea806",
       "version_major": 2,
       "version_minor": 0
      },
      "text/plain": [
       "Summarize dataset:   0%|          | 0/5 [00:00<?, ?it/s]"
      ]
     },
     "metadata": {},
     "output_type": "display_data"
    },
    {
     "data": {
      "application/vnd.jupyter.widget-view+json": {
       "model_id": "dec9048bf79e4f5bb7a80e9ca2415ac6",
       "version_major": 2,
       "version_minor": 0
      },
      "text/plain": [
       "Generate report structure:   0%|          | 0/1 [00:00<?, ?it/s]"
      ]
     },
     "metadata": {},
     "output_type": "display_data"
    },
    {
     "data": {
      "application/vnd.jupyter.widget-view+json": {
       "model_id": "dec1feee189d441e92c621bcf2498392",
       "version_major": 2,
       "version_minor": 0
      },
      "text/plain": [
       "Render HTML:   0%|          | 0/1 [00:00<?, ?it/s]"
      ]
     },
     "metadata": {},
     "output_type": "display_data"
    },
    {
     "data": {
      "application/vnd.jupyter.widget-view+json": {
       "model_id": "85243b5bebc7487a8485a9cd2df45612",
       "version_major": 2,
       "version_minor": 0
      },
      "text/plain": [
       "Export report to file:   0%|          | 0/1 [00:00<?, ?it/s]"
      ]
     },
     "metadata": {},
     "output_type": "display_data"
    }
   ],
   "source": [
    "# merged_2022_cleaned = pd.read_csv(\"merged_2022_cleaned.csv\")\n",
    "# profile = ProfileReport(merged_2022_cleaned, title=\"merged_2022_cleaned\", explorative=True)\n",
    "# profile.to_file(\"merged_2022_cleaned.html\")"
   ]
  },
  {
   "cell_type": "code",
   "execution_count": null,
   "id": "fa329a35",
   "metadata": {},
   "outputs": [],
   "source": []
  }
 ],
 "metadata": {
  "kernelspec": {
   "display_name": "Python 3 (ipykernel)",
   "language": "python",
   "name": "python3"
  },
  "language_info": {
   "codemirror_mode": {
    "name": "ipython",
    "version": 3
   },
   "file_extension": ".py",
   "mimetype": "text/x-python",
   "name": "python",
   "nbconvert_exporter": "python",
   "pygments_lexer": "ipython3",
   "version": "3.10.4"
  }
 },
 "nbformat": 4,
 "nbformat_minor": 5
}
